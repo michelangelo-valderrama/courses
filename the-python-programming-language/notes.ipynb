{
 "cells": [
  {
   "cell_type": "markdown",
   "metadata": {},
   "source": [
    "# El lenguaje de programación Python"
   ]
  },
  {
   "cell_type": "markdown",
   "metadata": {},
   "source": [
    "## Primeros pasos"
   ]
  },
  {
   "cell_type": "code",
   "execution_count": 7,
   "metadata": {},
   "outputs": [
    {
     "name": "stdout",
     "output_type": "stream",
     "text": [
      "Hola--sep--universo--sep--!--end--"
     ]
    }
   ],
   "source": [
    "print(\"Hola\", \"universo\", \"!\", sep=\"--sep--\", end=\"--end--\")"
   ]
  },
  {
   "cell_type": "code",
   "execution_count": 14,
   "metadata": {},
   "outputs": [
    {
     "name": "stdout",
     "output_type": "stream",
     "text": [
      "<class '_io.TextIOWrapper'>\n",
      "Hello, world!\n"
     ]
    }
   ],
   "source": [
    "f = open(\"./01/archivo.txt\")\n",
    "print(type(f))\n",
    "texto = f.read()\n",
    "f.close()\n",
    "print(texto)"
   ]
  },
  {
   "cell_type": "code",
   "execution_count": 16,
   "metadata": {},
   "outputs": [
    {
     "name": "stdout",
     "output_type": "stream",
     "text": [
      "Sun Jul  9 20:22:14 2023\n"
     ]
    }
   ],
   "source": [
    "# import time as t\n",
    "from time import asctime\n",
    "\n",
    "fecha = asctime() # t.asctime()\n",
    "print(fecha)"
   ]
  },
  {
   "cell_type": "code",
   "execution_count": 23,
   "metadata": {},
   "outputs": [
    {
     "name": "stdout",
     "output_type": "stream",
     "text": [
      "True\n",
      "False\n"
     ]
    }
   ],
   "source": [
    "saludo = \"Hola mundo\"\n",
    "hola = saludo\n",
    "print(id(saludo) == id(hola))\n",
    "#...\n",
    "saludo = \"Hola mundo\"\n",
    "hola = \"Hola mundo\"\n",
    "print(id(saludo) == id(hola))"
   ]
  },
  {
   "cell_type": "code",
   "execution_count": 25,
   "metadata": {},
   "outputs": [],
   "source": [
    "variable = \"Hola!\"\n",
    "del variable\n",
    "# print(variable) => NameError"
   ]
  },
  {
   "cell_type": "markdown",
   "metadata": {},
   "source": [
    "Borrar un nombre no implica necesariamente borrar el objeto al que este se refiere. Python guarda en memoria los objetos mientras tengan al menos un nombre  que los referencia. Cuando esto deja de ser así, el objeto ya es inaccesible y es entonces cuando el *garbage collector* lo borra de la memoria."
   ]
  },
  {
   "cell_type": "code",
   "execution_count": 26,
   "metadata": {},
   "outputs": [
    {
     "name": "stdout",
     "output_type": "stream",
     "text": [
      "3\n"
     ]
    }
   ],
   "source": [
    "cadena = \"Dale la banana a la mona\"\n",
    "resultado = cadena.count(\"na\") # \"___ __ __nana _ _ __na\"\n",
    "print(resultado)"
   ]
  },
  {
   "cell_type": "code",
   "execution_count": 30,
   "metadata": {},
   "outputs": [
    {
     "name": "stdout",
     "output_type": "stream",
     "text": [
      "5\n",
      "24.0\n",
      "2.0\n"
     ]
    }
   ],
   "source": [
    "numero = 24\n",
    "print(numero.bit_length()) # 11000\n",
    "numero = 24 + 2j\n",
    "print(numero.real)\n",
    "print(numero.imag)"
   ]
  },
  {
   "cell_type": "code",
   "execution_count": 44,
   "metadata": {
    "vscode": {
     "languageId": "shellscript"
    }
   },
   "outputs": [
    {
     "name": "stdout",
     "output_type": "stream",
     "text": [
      "Help on built-in function print in module builtins:\n",
      "\n",
      "print(...)\n",
      "    print(value, ..., sep=' ', end='\\n', file=sys.stdout, flush=False)\n",
      "    \n",
      "    Prints the values to a stream, or to sys.stdout by default.\n",
      "    Optional keyword arguments:\n",
      "    file:  a file-like object (stream); defaults to the current sys.stdout.\n",
      "    sep:   string inserted between values, default a space.\n",
      "    end:   string appended after the last value, default a newline.\n",
      "    flush: whether to forcibly flush the stream.\n",
      "\n"
     ]
    }
   ],
   "source": [
    "!python3 -m pydoc print"
   ]
  },
  {
   "cell_type": "markdown",
   "metadata": {},
   "source": [
    "```bash\n",
    "python3 -m pydoc -k widget # Busca el término widget en la documentación\n",
    "python3 -m pydoc -p 3000 # Servidor escuchando en el puerto 3000\n",
    "```"
   ]
  },
  {
   "cell_type": "markdown",
   "metadata": {},
   "source": [
    "## El lenguaje"
   ]
  },
  {
   "cell_type": "code",
   "execution_count": 88,
   "metadata": {},
   "outputs": [
    {
     "name": "stdout",
     "output_type": "stream",
     "text": [
      "Esto es una cadena de texto\n",
      "Estoesunacadenadetexto\n",
      "Arriba pone: \"Estoesunacadenadetexto\"\n",
      "Arriba se han usado los \\ para usar comillas (\") dentro de comillas. También se pueden utilizar comillas simples (')\n",
      "Se pueden \n",
      "usar varias \n",
      "lineas con los \\ y los \\n\n",
      "pero tambien\n",
      "se puede con\n",
      "comillas triples (''')\n",
      "\n",
      "\n",
      "ASCII BELL (BEL): \u0007 text\n",
      "ASCII Backspace (BS): text\n",
      "ASCII Formfeed (FF): \f text\n",
      "ASCII Linefeed (LF): \n",
      " text\n",
      " text Carriage Return (CR): \n",
      "ASCII Horizontal Tab (TAB): \t text\n",
      "ASCII Vertical Tab (VT): \u000b text\n",
      "\n"
     ]
    }
   ],
   "source": [
    "print(\"Esto es una cadena de texto\")\n",
    "print(\"Esto\" \"es\" \"una\" \"cadena\" \"de\" \"texto\")\n",
    "print(\"Arriba pone: \\\"Estoesunacadenadetexto\\\"\")\n",
    "print('Arriba se han usado los \\\\ para usar comillas (\") dentro de comillas. También se pueden utilizar comillas simples (\\')')\n",
    "print('Se pueden \\n\\\n",
    "usar varias \\n\\\n",
    "lineas con los \\\\ y los \\\\n')\n",
    "print('''pero tambien\n",
    "se puede con\n",
    "comillas triples (\\''')\n",
    "''')\n",
    "print('''\n",
    "ASCII BELL (BEL): \\a text\n",
    "ASCII Backspace (BS): \\b text\n",
    "ASCII Formfeed (FF): \\f text\n",
    "ASCII Linefeed (LF): \\n text\n",
    "ASCII Carriage Return (CR): \\r text\n",
    "ASCII Horizontal Tab (TAB): \\t text\n",
    "ASCII Vertical Tab (VT): \\v text\n",
    "''')"
   ]
  },
  {
   "cell_type": "code",
   "execution_count": 2,
   "metadata": {},
   "outputs": [
    {
     "name": "stdout",
     "output_type": "stream",
     "text": [
      "Escribir 'Z' es lo mismo que escribir 'Z' en ASCII o escribir 'Z' en Hexadecimal\n"
     ]
    }
   ],
   "source": [
    "cadena = \"Escribir 'Z' es lo mismo que escribir '\\132' en ASCII o escribir '\\x5A' en Hexadecimal\"\n",
    "print(cadena)"
   ]
  },
  {
   "cell_type": "code",
   "execution_count": 1,
   "metadata": {},
   "outputs": [
    {
     "name": "stdout",
     "output_type": "stream",
     "text": [
      "Aquí va un emoji del estándar Unicode: 😀\n",
      "La letra Omega tiene este aspecto: Ω y este otro Ω\n",
      "En Python, la letra Omega se pone así \\u03A9 y así \\U000003A9\n",
      "La variable 'nombre' es de tipo <class 'str'> y contiene el nombre: Pablo\n"
     ]
    }
   ],
   "source": [
    "print(\"Aquí va un emoji del estándar Unicode: \\N{grinning face}\")\n",
    "print(\"La letra Omega tiene este aspecto: \\u03A9 y este otro \\U000003A9\")\n",
    "print(r\"En Python, la letra Omega se pone así \\u03A9 y así \\U000003A9\") # el prefijo \"r\" ignora los significados especiales\n",
    "nombre = \"Pablo\"\n",
    "print(f\"La variable 'nombre' es de tipo {type(nombre)} y contiene el nombre: {nombre}\") # el prefijo \"f\" permite el uso de variables"
   ]
  },
  {
   "cell_type": "code",
   "execution_count": 21,
   "metadata": {},
   "outputs": [
    {
     "name": "stdout",
     "output_type": "stream",
     "text": [
      "<__main__.Person object at 0x7f6120138df0>\n"
     ]
    }
   ],
   "source": [
    "class Person:\n",
    "    def __init__(self, name):\n",
    "        self.name = name\n",
    "\n",
    "var = Person(\"John\")\n",
    "\n",
    "print(str(var))"
   ]
  },
  {
   "cell_type": "code",
   "execution_count": 24,
   "metadata": {},
   "outputs": [
    {
     "name": "stdout",
     "output_type": "stream",
     "text": [
      "True\n",
      "True\n",
      "True\n",
      "True\n",
      "True\n",
      "True\n",
      "True\n"
     ]
    }
   ],
   "source": [
    "# Todos los métodos de strings https://docs.python.org/3/library/stdtypes.html?highlight=isascii#string-methods\n",
    "\n",
    "print(\"asd12\".isalnum()) # True si uno o más caracteres son alfanumérico\n",
    "print(\"asasd\".isalpha()) # True si uno o más caracteres son letras\n",
    "print(\"\".isascii()) # True si string vacio o si todos caracteres son ASCII\n",
    "print(\"123\".isdigit()) # True si al menos un caracter y todos digitos\n",
    "print(\"asddasd\".islower()) # True si al menor un caracter y todos minuscula\n",
    "print(\" \".isspace()) # True si uno o más caracteres son todos espacios\n",
    "print(\"ASDA\".isupper()) # Todos mayuscula"
   ]
  },
  {
   "cell_type": "code",
   "execution_count": 27,
   "metadata": {},
   "outputs": [
    {
     "name": "stdout",
     "output_type": "stream",
     "text": [
      "Hola, soy pablo y tengo un gato\n"
     ]
    }
   ],
   "source": [
    "nombre = \"pablo\"\n",
    "mascota = \"un gato\"\n",
    "plantilla = \"Hola, soy {a} y tengo {b}\"\n",
    "print(plantilla.format(a = nombre, b = mascota))\n",
    "# plantilla = \"Hola, soy {1} y tengo {0}\"\n",
    "# print(plantilla.format(mascota, nombre))"
   ]
  }
 ],
 "metadata": {
  "kernelspec": {
   "display_name": "Python 3",
   "language": "python",
   "name": "python3"
  },
  "language_info": {
   "codemirror_mode": {
    "name": "ipython",
    "version": 3
   },
   "file_extension": ".py",
   "mimetype": "text/x-python",
   "name": "python",
   "nbconvert_exporter": "python",
   "pygments_lexer": "ipython3",
   "version": "3.10.6"
  },
  "orig_nbformat": 4
 },
 "nbformat": 4,
 "nbformat_minor": 2
}
