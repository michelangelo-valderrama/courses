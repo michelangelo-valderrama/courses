{
 "cells": [
  {
   "cell_type": "markdown",
   "metadata": {},
   "source": [
    "# El lenguaje de programación Python"
   ]
  },
  {
   "cell_type": "markdown",
   "metadata": {},
   "source": [
    "## Primeros pasos"
   ]
  },
  {
   "cell_type": "code",
   "execution_count": 7,
   "metadata": {},
   "outputs": [
    {
     "name": "stdout",
     "output_type": "stream",
     "text": [
      "Hola--sep--universo--sep--!--end--"
     ]
    }
   ],
   "source": [
    "print(\"Hola\", \"universo\", \"!\", sep=\"--sep--\", end=\"--end--\")"
   ]
  },
  {
   "cell_type": "code",
   "execution_count": 14,
   "metadata": {},
   "outputs": [
    {
     "name": "stdout",
     "output_type": "stream",
     "text": [
      "<class '_io.TextIOWrapper'>\n",
      "Hello, world!\n"
     ]
    }
   ],
   "source": [
    "f = open(\"./01/archivo.txt\")\n",
    "print(type(f))\n",
    "texto = f.read()\n",
    "f.close()\n",
    "print(texto)"
   ]
  },
  {
   "cell_type": "code",
   "execution_count": 16,
   "metadata": {},
   "outputs": [
    {
     "name": "stdout",
     "output_type": "stream",
     "text": [
      "Sun Jul  9 20:22:14 2023\n"
     ]
    }
   ],
   "source": [
    "# import time as t\n",
    "from time import asctime\n",
    "\n",
    "fecha = asctime() # t.asctime()\n",
    "print(fecha)"
   ]
  },
  {
   "cell_type": "code",
   "execution_count": 23,
   "metadata": {},
   "outputs": [
    {
     "name": "stdout",
     "output_type": "stream",
     "text": [
      "True\n",
      "False\n"
     ]
    }
   ],
   "source": [
    "saludo = \"Hola mundo\"\n",
    "hola = saludo\n",
    "print(id(saludo) == id(hola))\n",
    "#...\n",
    "saludo = \"Hola mundo\"\n",
    "hola = \"Hola mundo\"\n",
    "print(id(saludo) == id(hola))"
   ]
  },
  {
   "cell_type": "code",
   "execution_count": 25,
   "metadata": {},
   "outputs": [],
   "source": [
    "variable = \"Hola!\"\n",
    "del variable\n",
    "# print(variable) => NameError"
   ]
  },
  {
   "cell_type": "markdown",
   "metadata": {},
   "source": [
    "Borrar un nombre no implica necesariamente borrar el objeto al que este se refiere. Python guarda en memoria los objetos mientras tengan al menos un nombre  que los referencia. Cuando esto deja de ser así, el objeto ya es inaccesible y es entonces cuando el *garbage collector* lo borra de la memoria."
   ]
  },
  {
   "cell_type": "code",
   "execution_count": 26,
   "metadata": {},
   "outputs": [
    {
     "name": "stdout",
     "output_type": "stream",
     "text": [
      "3\n"
     ]
    }
   ],
   "source": [
    "cadena = \"Dale la banana a la mona\"\n",
    "resultado = cadena.count(\"na\") # \"___ __ __nana _ _ __na\"\n",
    "print(resultado)"
   ]
  },
  {
   "cell_type": "code",
   "execution_count": 30,
   "metadata": {},
   "outputs": [
    {
     "name": "stdout",
     "output_type": "stream",
     "text": [
      "5\n",
      "24.0\n",
      "2.0\n"
     ]
    }
   ],
   "source": [
    "numero = 24\n",
    "print(numero.bit_length()) # 11000\n",
    "numero = 24 + 2j\n",
    "print(numero.real)\n",
    "print(numero.imag)"
   ]
  }
 ],
 "metadata": {
  "kernelspec": {
   "display_name": "Python 3",
   "language": "python",
   "name": "python3"
  },
  "language_info": {
   "codemirror_mode": {
    "name": "ipython",
    "version": 3
   },
   "file_extension": ".py",
   "mimetype": "text/x-python",
   "name": "python",
   "nbconvert_exporter": "python",
   "pygments_lexer": "ipython3",
   "version": "3.10.6"
  },
  "orig_nbformat": 4
 },
 "nbformat": 4,
 "nbformat_minor": 2
}
